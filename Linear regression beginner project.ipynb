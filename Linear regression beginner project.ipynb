{
 "cells": [
  {
   "cell_type": "markdown",
   "metadata": {},
   "source": [
    "We will build a Linear regression model for Medical cost dataset.\n",
    "The dataset consists of age, sex, BMI(body mass index), children, smoker and region feature,\n",
    "which are independent and charge as a dependent feature.\n",
    "We will predict individual medical costs billed by health insurance."
   ]
  },
  {
   "cell_type": "markdown",
   "metadata": {},
   "source": [
    "### Importing required libraries"
   ]
  },
  {
   "cell_type": "code",
   "execution_count": 1,
   "metadata": {},
   "outputs": [],
   "source": [
    "import pandas as pd\n",
    "import numpy as np\n",
    "import matplotlib.pyplot as plt\n",
    "import seaborn as sns"
   ]
  },
  {
   "cell_type": "markdown",
   "metadata": {},
   "source": [
    "### Import and read data"
   ]
  },
  {
   "cell_type": "code",
   "execution_count": 2,
   "metadata": {},
   "outputs": [
    {
     "data": {
      "text/html": [
       "<div>\n",
       "<style scoped>\n",
       "    .dataframe tbody tr th:only-of-type {\n",
       "        vertical-align: middle;\n",
       "    }\n",
       "\n",
       "    .dataframe tbody tr th {\n",
       "        vertical-align: top;\n",
       "    }\n",
       "\n",
       "    .dataframe thead th {\n",
       "        text-align: right;\n",
       "    }\n",
       "</style>\n",
       "<table border=\"1\" class=\"dataframe\">\n",
       "  <thead>\n",
       "    <tr style=\"text-align: right;\">\n",
       "      <th></th>\n",
       "      <th>age</th>\n",
       "      <th>sex</th>\n",
       "      <th>bmi</th>\n",
       "      <th>children</th>\n",
       "      <th>smoker</th>\n",
       "      <th>region</th>\n",
       "      <th>expenses</th>\n",
       "    </tr>\n",
       "  </thead>\n",
       "  <tbody>\n",
       "    <tr>\n",
       "      <th>0</th>\n",
       "      <td>19</td>\n",
       "      <td>female</td>\n",
       "      <td>27.9</td>\n",
       "      <td>0</td>\n",
       "      <td>yes</td>\n",
       "      <td>southwest</td>\n",
       "      <td>16884.92</td>\n",
       "    </tr>\n",
       "    <tr>\n",
       "      <th>1</th>\n",
       "      <td>18</td>\n",
       "      <td>male</td>\n",
       "      <td>33.8</td>\n",
       "      <td>1</td>\n",
       "      <td>no</td>\n",
       "      <td>southeast</td>\n",
       "      <td>1725.55</td>\n",
       "    </tr>\n",
       "    <tr>\n",
       "      <th>2</th>\n",
       "      <td>28</td>\n",
       "      <td>male</td>\n",
       "      <td>33.0</td>\n",
       "      <td>3</td>\n",
       "      <td>no</td>\n",
       "      <td>southeast</td>\n",
       "      <td>4449.46</td>\n",
       "    </tr>\n",
       "    <tr>\n",
       "      <th>3</th>\n",
       "      <td>33</td>\n",
       "      <td>male</td>\n",
       "      <td>22.7</td>\n",
       "      <td>0</td>\n",
       "      <td>no</td>\n",
       "      <td>northwest</td>\n",
       "      <td>21984.47</td>\n",
       "    </tr>\n",
       "    <tr>\n",
       "      <th>4</th>\n",
       "      <td>32</td>\n",
       "      <td>male</td>\n",
       "      <td>28.9</td>\n",
       "      <td>0</td>\n",
       "      <td>no</td>\n",
       "      <td>northwest</td>\n",
       "      <td>3866.86</td>\n",
       "    </tr>\n",
       "    <tr>\n",
       "      <th>...</th>\n",
       "      <td>...</td>\n",
       "      <td>...</td>\n",
       "      <td>...</td>\n",
       "      <td>...</td>\n",
       "      <td>...</td>\n",
       "      <td>...</td>\n",
       "      <td>...</td>\n",
       "    </tr>\n",
       "    <tr>\n",
       "      <th>1333</th>\n",
       "      <td>50</td>\n",
       "      <td>male</td>\n",
       "      <td>31.0</td>\n",
       "      <td>3</td>\n",
       "      <td>no</td>\n",
       "      <td>northwest</td>\n",
       "      <td>10600.55</td>\n",
       "    </tr>\n",
       "    <tr>\n",
       "      <th>1334</th>\n",
       "      <td>18</td>\n",
       "      <td>female</td>\n",
       "      <td>31.9</td>\n",
       "      <td>0</td>\n",
       "      <td>no</td>\n",
       "      <td>northeast</td>\n",
       "      <td>2205.98</td>\n",
       "    </tr>\n",
       "    <tr>\n",
       "      <th>1335</th>\n",
       "      <td>18</td>\n",
       "      <td>female</td>\n",
       "      <td>36.9</td>\n",
       "      <td>0</td>\n",
       "      <td>no</td>\n",
       "      <td>southeast</td>\n",
       "      <td>1629.83</td>\n",
       "    </tr>\n",
       "    <tr>\n",
       "      <th>1336</th>\n",
       "      <td>21</td>\n",
       "      <td>female</td>\n",
       "      <td>25.8</td>\n",
       "      <td>0</td>\n",
       "      <td>no</td>\n",
       "      <td>southwest</td>\n",
       "      <td>2007.95</td>\n",
       "    </tr>\n",
       "    <tr>\n",
       "      <th>1337</th>\n",
       "      <td>61</td>\n",
       "      <td>female</td>\n",
       "      <td>29.1</td>\n",
       "      <td>0</td>\n",
       "      <td>yes</td>\n",
       "      <td>northwest</td>\n",
       "      <td>29141.36</td>\n",
       "    </tr>\n",
       "  </tbody>\n",
       "</table>\n",
       "<p>1338 rows × 7 columns</p>\n",
       "</div>"
      ],
      "text/plain": [
       "      age     sex   bmi  children smoker     region  expenses\n",
       "0      19  female  27.9         0    yes  southwest  16884.92\n",
       "1      18    male  33.8         1     no  southeast   1725.55\n",
       "2      28    male  33.0         3     no  southeast   4449.46\n",
       "3      33    male  22.7         0     no  northwest  21984.47\n",
       "4      32    male  28.9         0     no  northwest   3866.86\n",
       "...   ...     ...   ...       ...    ...        ...       ...\n",
       "1333   50    male  31.0         3     no  northwest  10600.55\n",
       "1334   18  female  31.9         0     no  northeast   2205.98\n",
       "1335   18  female  36.9         0     no  southeast   1629.83\n",
       "1336   21  female  25.8         0     no  southwest   2007.95\n",
       "1337   61  female  29.1         0    yes  northwest  29141.36\n",
       "\n",
       "[1338 rows x 7 columns]"
      ]
     },
     "execution_count": 2,
     "metadata": {},
     "output_type": "execute_result"
    }
   ],
   "source": [
    "file_path = '/Users/anant/Downloads/insurance.csv'\n",
    "df = pd.read_csv(file_path)\n",
    "df"
   ]
  },
  {
   "cell_type": "raw",
   "metadata": {},
   "source": [
    "Our dataset has 1338 rows and 7 columns"
   ]
  },
  {
   "cell_type": "code",
   "execution_count": 3,
   "metadata": {},
   "outputs": [
    {
     "data": {
      "text/html": [
       "<div>\n",
       "<style scoped>\n",
       "    .dataframe tbody tr th:only-of-type {\n",
       "        vertical-align: middle;\n",
       "    }\n",
       "\n",
       "    .dataframe tbody tr th {\n",
       "        vertical-align: top;\n",
       "    }\n",
       "\n",
       "    .dataframe thead th {\n",
       "        text-align: right;\n",
       "    }\n",
       "</style>\n",
       "<table border=\"1\" class=\"dataframe\">\n",
       "  <thead>\n",
       "    <tr style=\"text-align: right;\">\n",
       "      <th></th>\n",
       "      <th>age</th>\n",
       "      <th>bmi</th>\n",
       "      <th>children</th>\n",
       "      <th>expenses</th>\n",
       "    </tr>\n",
       "  </thead>\n",
       "  <tbody>\n",
       "    <tr>\n",
       "      <th>count</th>\n",
       "      <td>1338.000000</td>\n",
       "      <td>1338.000000</td>\n",
       "      <td>1338.000000</td>\n",
       "      <td>1338.000000</td>\n",
       "    </tr>\n",
       "    <tr>\n",
       "      <th>mean</th>\n",
       "      <td>39.207025</td>\n",
       "      <td>30.665471</td>\n",
       "      <td>1.094918</td>\n",
       "      <td>13270.422414</td>\n",
       "    </tr>\n",
       "    <tr>\n",
       "      <th>std</th>\n",
       "      <td>14.049960</td>\n",
       "      <td>6.098382</td>\n",
       "      <td>1.205493</td>\n",
       "      <td>12110.011240</td>\n",
       "    </tr>\n",
       "    <tr>\n",
       "      <th>min</th>\n",
       "      <td>18.000000</td>\n",
       "      <td>16.000000</td>\n",
       "      <td>0.000000</td>\n",
       "      <td>1121.870000</td>\n",
       "    </tr>\n",
       "    <tr>\n",
       "      <th>25%</th>\n",
       "      <td>27.000000</td>\n",
       "      <td>26.300000</td>\n",
       "      <td>0.000000</td>\n",
       "      <td>4740.287500</td>\n",
       "    </tr>\n",
       "    <tr>\n",
       "      <th>50%</th>\n",
       "      <td>39.000000</td>\n",
       "      <td>30.400000</td>\n",
       "      <td>1.000000</td>\n",
       "      <td>9382.030000</td>\n",
       "    </tr>\n",
       "    <tr>\n",
       "      <th>75%</th>\n",
       "      <td>51.000000</td>\n",
       "      <td>34.700000</td>\n",
       "      <td>2.000000</td>\n",
       "      <td>16639.915000</td>\n",
       "    </tr>\n",
       "    <tr>\n",
       "      <th>max</th>\n",
       "      <td>64.000000</td>\n",
       "      <td>53.100000</td>\n",
       "      <td>5.000000</td>\n",
       "      <td>63770.430000</td>\n",
       "    </tr>\n",
       "  </tbody>\n",
       "</table>\n",
       "</div>"
      ],
      "text/plain": [
       "               age          bmi     children      expenses\n",
       "count  1338.000000  1338.000000  1338.000000   1338.000000\n",
       "mean     39.207025    30.665471     1.094918  13270.422414\n",
       "std      14.049960     6.098382     1.205493  12110.011240\n",
       "min      18.000000    16.000000     0.000000   1121.870000\n",
       "25%      27.000000    26.300000     0.000000   4740.287500\n",
       "50%      39.000000    30.400000     1.000000   9382.030000\n",
       "75%      51.000000    34.700000     2.000000  16639.915000\n",
       "max      64.000000    53.100000     5.000000  63770.430000"
      ]
     },
     "execution_count": 3,
     "metadata": {},
     "output_type": "execute_result"
    }
   ],
   "source": [
    "df.describe()"
   ]
  },
  {
   "cell_type": "markdown",
   "metadata": {},
   "source": [
    "### Data Analysis"
   ]
  },
  {
   "cell_type": "code",
   "execution_count": 4,
   "metadata": {},
   "outputs": [
    {
     "data": {
      "image/png": "[encoded data removed]",
      "text/plain": [
       "<Figure size 360x360 with 1 Axes>"
      ]
     },
     "metadata": {
      "needs_background": "light"
     },
     "output_type": "display_data"
    }
   ],
   "source": [
    "sns.lmplot(x = 'bmi', y = 'expenses', data=df)\n",
    "\n",
    "plt.xlabel('Boby Mass Index $(kg/m^2)$ : As independent variable')\n",
    "plt.ylabel('Expenses : As Dependent variable')\n",
    "plt.title('Charge Vs BMI')\n",
    "plt.show()"
   ]
  },
  {
   "cell_type": "code",
   "execution_count": 5,
   "metadata": {},
   "outputs": [
    {
     "data": {
      "image/png": "[encoded data removed]",
      "text/plain": [
       "<Figure size 864x432 with 1 Axes>"
      ]
     },
     "metadata": {
      "needs_background": "light"
     },
     "output_type": "display_data"
    }
   ],
   "source": [
    "sns.lmplot(x = 'bmi', y = 'expenses', data=df, aspect = 2, height = 6)\n",
    "\n",
    "plt.xlabel('Boby Mass Index $(kg/m^2)$ : As Independent Variable', fontsize = 12)\n",
    "plt.ylabel('Expenses : As Dependent Variable', fontsize = 12)\n",
    "plt.title('Charge Vs BMI', fontsize = 16)\n",
    "plt.show()"
   ]
  },
  {
   "cell_type": "code",
   "execution_count": null,
   "metadata": {},
   "outputs": [],
   "source": []
  },
  {
   "cell_type": "markdown",
   "metadata": {},
   "source": [
    "### Check for missing value"
   ]
  },
  {
   "cell_type": "code",
   "execution_count": 6,
   "metadata": {},
   "outputs": [
    {
     "name": "stdout",
     "output_type": "stream",
     "text": [
      "No\n"
     ]
    }
   ],
   "source": [
    "if True in df.notnull():\n",
    "    print(\"yes\")\n",
    "else:\n",
    "    print(\"No\")"
   ]
  },
  {
   "cell_type": "markdown",
   "metadata": {},
   "source": [
    "Another Method"
   ]
  },
  {
   "cell_type": "code",
   "execution_count": 7,
   "metadata": {},
   "outputs": [
    {
     "data": {
      "image/png": "[encoded data removed]",
      "text/plain": [
       "<Figure size 864x288 with 2 Axes>"
      ]
     },
     "metadata": {
      "needs_background": "light"
     },
     "output_type": "display_data"
    }
   ],
   "source": [
    "plt.figure(figsize=(12,4))\n",
    "\n",
    "sns.heatmap(df.isnull(), cmap = 'Blues_r')\n",
    "\n",
    "plt.title('Missing value in the dataset');"
   ]
  },
  {
   "cell_type": "markdown",
   "metadata": {},
   "source": [
    "No NULL value"
   ]
  },
  {
   "cell_type": "markdown",
   "metadata": {},
   "source": [
    "### Finding correlation in data"
   ]
  },
  {
   "cell_type": "code",
   "execution_count": 8,
   "metadata": {},
   "outputs": [
    {
     "data": {
      "image/png": "[encoded data removed]",
      "text/plain": [
       "<Figure size 432x288 with 2 Axes>"
      ]
     },
     "metadata": {
      "needs_background": "light"
     },
     "output_type": "display_data"
    }
   ],
   "source": [
    "sns.heatmap(df.corr(), annot = True, cmap = 'Wistia')\n",
    "plt.show()"
   ]
  },
  {
   "cell_type": "markdown",
   "metadata": {},
   "source": [
    "There is as such no correlation"
   ]
  },
  {
   "cell_type": "code",
   "execution_count": null,
   "metadata": {},
   "outputs": [],
   "source": []
  },
  {
   "cell_type": "code",
   "execution_count": 9,
   "metadata": {},
   "outputs": [
    {
     "name": "stderr",
     "output_type": "stream",
     "text": [
      "/Library/Frameworks/Python.framework/Versions/3.9/lib/python3.9/site-packages/seaborn/distributions.py:2557: FutureWarning: `distplot` is a deprecated function and will be removed in a future version. Please adapt your code to use either `displot` (a figure-level function with similar flexibility) or `histplot` (an axes-level function for histograms).\n",
      "  warnings.warn(msg, FutureWarning)\n",
      "/Library/Frameworks/Python.framework/Versions/3.9/lib/python3.9/site-packages/seaborn/distributions.py:2557: FutureWarning: `distplot` is a deprecated function and will be removed in a future version. Please adapt your code to use either `displot` (a figure-level function with similar flexibility) or `histplot` (an axes-level function for histograms).\n",
      "  warnings.warn(msg, FutureWarning)\n"
     ]
    },
    {
     "data": {
      "image/png": "[encoded data removed]",
      "text/plain": [
       "<Figure size 1152x648 with 2 Axes>"
      ]
     },
     "metadata": {
      "needs_background": "light"
     },
     "output_type": "display_data"
    }
   ],
   "source": [
    "plt.figure(figsize = (16, 9))\n",
    "\n",
    "plt.subplot(2,1, 1)\n",
    "sns.distplot(df['expenses'], color = 'm', bins = 50)\n",
    "plt.title('Distribution of Expenses')\n",
    "\n",
    "plt.subplot(2, 1, 2)\n",
    "sns.distplot(np.log10(df['expenses']), color = 'r', bins = 50)\n",
    "plt.title('Distribution of Expenses on $log10$ scale')\n",
    "\n",
    "plt.subplots_adjust(hspace = 0.5)"
   ]
  },
  {
   "cell_type": "markdown",
   "metadata": {},
   "source": [
    "If we look at the left plot the charges varies from 1120 to 63500, the plot is right skewed.\n",
    "In right plot we will apply natural log, then plot approximately tends to normal.\n",
    "\n",
    "For further analysis we will apply log on target variable charges."
   ]
  },
  {
   "cell_type": "code",
   "execution_count": 10,
   "metadata": {},
   "outputs": [
    {
     "data": {
      "text/plain": [
       "Text(0, 0.5, 'Expenses')"
      ]
     },
     "execution_count": 10,
     "metadata": {},
     "output_type": "execute_result"
    },
    {
     "data": {
      "image/png": "[encoded data removed]",
      "text/plain": [
       "<Figure size 1008x432 with 2 Axes>"
      ]
     },
     "metadata": {
      "needs_background": "light"
     },
     "output_type": "display_data"
    }
   ],
   "source": [
    "f = plt.figure(figsize=(14,6))\n",
    "\n",
    "ax = f.add_subplot(1, 2, 1)\n",
    "sns.violinplot(x = 'sex', y = 'expenses', data = df, ax = ax)\n",
    "ax.set_title('Violin plot of Expenses vs Sex', fontsize = 16)\n",
    "ax.set_xlabel('Sex', fontsize = 12)\n",
    "ax.set_ylabel('Expenses', fontsize = 12)\n",
    "\n",
    "ax = f.add_subplot(1, 2, 2)\n",
    "sns.violinplot(x='smoker', y='expenses',data = df, ax = ax)\n",
    "ax.set_title('Violin plot of Expenses vs Smoker', fontsize = 16);\n",
    "ax.set_xlabel('Smoker', fontsize = 12)\n",
    "ax.set_ylabel('Expenses', fontsize = 12)"
   ]
  },
  {
   "cell_type": "markdown",
   "metadata": {},
   "source": [
    "From left plot the insurance charge for male and female is approx. in same range,it is average around 5000 bucks.\n",
    "In right plot the insurance charge for smokers is much wide range compare to non smokers,\n",
    "the average charges for non smoker is approximately 5000 bucks.\n",
    "For smoker the minimum insurance charge is itself 5000 bucks."
   ]
  },
  {
   "cell_type": "code",
   "execution_count": null,
   "metadata": {},
   "outputs": [],
   "source": []
  },
  {
   "cell_type": "markdown",
   "metadata": {},
   "source": [
    "The Dummy variable trap is a scenario in which the independent variable are multicollinear,\n",
    "a scenario in which two or more variables are highly correlated.\n",
    "In simple term one variable can be predicted from the others.\n",
    "\n",
    "By using pandas get_dummies function we can do all above three step in line of code.\n",
    "We will this fuction to get dummy variable for sex, children,smoker,region features.\n",
    "By setting drop_first =True function will remove dummy variable trap by droping one variable and original variable.\n",
    "The pandas makes our life easy."
   ]
  },
  {
   "cell_type": "code",
   "execution_count": 11,
   "metadata": {},
   "outputs": [],
   "source": [
    "categorical_columns = ['sex','children', 'smoker', 'region']\n",
    "\n",
    "df_encode = pd.get_dummies(data = df, prefix = 'OHE', prefix_sep = '_', columns = categorical_columns,\n",
    "                           drop_first =True, dtype='int8')"
   ]
  },
  {
   "cell_type": "code",
   "execution_count": 12,
   "metadata": {},
   "outputs": [
    {
     "name": "stdout",
     "output_type": "stream",
     "text": [
      "Columns in original data frame:\n",
      " ['age' 'sex' 'bmi' 'children' 'smoker' 'region' 'expenses']\n",
      "\n",
      "Number of rows and columns in the dataset: (1338, 7)\n",
      "\n",
      "Columns in data frame after encoding dummy variable:\n",
      " ['age' 'bmi' 'expenses' 'OHE_male' 'OHE_1' 'OHE_2' 'OHE_3' 'OHE_4' 'OHE_5'\n",
      " 'OHE_yes' 'OHE_northwest' 'OHE_southeast' 'OHE_southwest']\n",
      "\n",
      "Number of rows and columns in the dataset: (1338, 13)\n"
     ]
    }
   ],
   "source": [
    "# Lets verify the dummay variable process\n",
    "print('Columns in original data frame:\\n',df.columns.values)\n",
    "print('\\nNumber of rows and columns in the dataset:',df.shape)\n",
    "print('\\nColumns in data frame after encoding dummy variable:\\n',df_encode.columns.values)\n",
    "print('\\nNumber of rows and columns in the dataset:',df_encode.shape)"
   ]
  },
  {
   "cell_type": "code",
   "execution_count": null,
   "metadata": {},
   "outputs": [],
   "source": []
  },
  {
   "cell_type": "markdown",
   "metadata": {},
   "source": [
    "Box -Cox transformation\n",
    "\n",
    "A Box Cox transformation is a way to transform non-normal dependent variables into a normal shape.\n",
    "Normality is an important assumption for many statistical techniques;\n",
    "if your data isn’t normal, applying a Box-Cox means that you are able to run a broader number of tests.\n",
    "All that we need to perform this transformation is to find lambda value and apply the rule shown,\n",
    "below to your variable.\n",
    " \n",
    "The trick of Box-Cox transformation is to find lambda value,\n",
    "however in practice this is quite affordable.\n",
    "The following function returns the transformed variable, lambda value,confidence interval."
   ]
  },
  {
   "cell_type": "code",
   "execution_count": 13,
   "metadata": {},
   "outputs": [
    {
     "data": {
      "text/plain": [
       "((-0.011402950284988304, 0.09880965012231949), 0.04364902969059508)"
      ]
     },
     "execution_count": 13,
     "metadata": {},
     "output_type": "execute_result"
    }
   ],
   "source": [
    "from scipy.stats import boxcox\n",
    "y_bc,lam, ci= boxcox(df_encode['expenses'],alpha=0.05)\n",
    "\n",
    "#df['charges'] = y_bc  \n",
    "# it did not perform better for this model, so log transform is used\n",
    "ci,lam"
   ]
  },
  {
   "cell_type": "code",
   "execution_count": 14,
   "metadata": {},
   "outputs": [],
   "source": [
    "## Log transform\n",
    "df_encode['expenses'] = np.log(df_encode['expenses'])"
   ]
  },
  {
   "cell_type": "markdown",
   "metadata": {},
   "source": [
    "The original categorical variable are removed and also,\n",
    "one of the one hot encode varible column for perticular categorical variable is droped from the column.\n",
    "So we completed all three encoding step by using get dummies function."
   ]
  },
  {
   "cell_type": "markdown",
   "metadata": {},
   "source": [
    "### Test Train Split"
   ]
  },
  {
   "cell_type": "code",
   "execution_count": 15,
   "metadata": {},
   "outputs": [],
   "source": [
    "from sklearn.model_selection import train_test_split\n",
    "\n",
    "X = df_encode.drop('expenses', axis = 1)\n",
    "y = df_encode['expenses']\n",
    "\n",
    "X_train, X_test, y_train, y_test = train_test_split(X,y,test_size = 0.3, random_state = 23)"
   ]
  },
  {
   "cell_type": "code",
   "execution_count": 16,
   "metadata": {},
   "outputs": [
    {
     "name": "stdout",
     "output_type": "stream",
     "text": [
      "Training dataset size = (936, 12)\n",
      "Testing dataset size =(402, 12)\n"
     ]
    }
   ],
   "source": [
    "print(f'Training dataset size = {X_train.shape}\\nTesting dataset size ={X_test.shape}')"
   ]
  },
  {
   "cell_type": "code",
   "execution_count": null,
   "metadata": {},
   "outputs": [],
   "source": []
  },
  {
   "cell_type": "markdown",
   "metadata": {},
   "source": [
    "### Model Building"
   ]
  },
  {
   "cell_type": "code",
   "execution_count": 17,
   "metadata": {},
   "outputs": [
    {
     "name": "stdout",
     "output_type": "stream",
     "text": [
      "<class 'pandas.core.frame.DataFrame'>\n"
     ]
    },
    {
     "data": {
      "text/html": [
       "<div>\n",
       "<style scoped>\n",
       "    .dataframe tbody tr th:only-of-type {\n",
       "        vertical-align: middle;\n",
       "    }\n",
       "\n",
       "    .dataframe tbody tr th {\n",
       "        vertical-align: top;\n",
       "    }\n",
       "\n",
       "    .dataframe thead th {\n",
       "        text-align: right;\n",
       "    }\n",
       "</style>\n",
       "<table border=\"1\" class=\"dataframe\">\n",
       "  <thead>\n",
       "    <tr style=\"text-align: right;\">\n",
       "      <th></th>\n",
       "      <th>age</th>\n",
       "      <th>bmi</th>\n",
       "      <th>OHE_male</th>\n",
       "      <th>OHE_1</th>\n",
       "      <th>OHE_2</th>\n",
       "      <th>OHE_3</th>\n",
       "      <th>OHE_4</th>\n",
       "      <th>OHE_5</th>\n",
       "      <th>OHE_yes</th>\n",
       "      <th>OHE_northwest</th>\n",
       "      <th>OHE_southeast</th>\n",
       "      <th>OHE_southwest</th>\n",
       "    </tr>\n",
       "  </thead>\n",
       "  <tbody>\n",
       "    <tr>\n",
       "      <th>923</th>\n",
       "      <td>34</td>\n",
       "      <td>35.8</td>\n",
       "      <td>1</td>\n",
       "      <td>0</td>\n",
       "      <td>0</td>\n",
       "      <td>0</td>\n",
       "      <td>0</td>\n",
       "      <td>0</td>\n",
       "      <td>0</td>\n",
       "      <td>1</td>\n",
       "      <td>0</td>\n",
       "      <td>0</td>\n",
       "    </tr>\n",
       "    <tr>\n",
       "      <th>1121</th>\n",
       "      <td>46</td>\n",
       "      <td>38.2</td>\n",
       "      <td>1</td>\n",
       "      <td>0</td>\n",
       "      <td>1</td>\n",
       "      <td>0</td>\n",
       "      <td>0</td>\n",
       "      <td>0</td>\n",
       "      <td>0</td>\n",
       "      <td>0</td>\n",
       "      <td>1</td>\n",
       "      <td>0</td>\n",
       "    </tr>\n",
       "    <tr>\n",
       "      <th>713</th>\n",
       "      <td>20</td>\n",
       "      <td>40.5</td>\n",
       "      <td>1</td>\n",
       "      <td>0</td>\n",
       "      <td>0</td>\n",
       "      <td>0</td>\n",
       "      <td>0</td>\n",
       "      <td>0</td>\n",
       "      <td>0</td>\n",
       "      <td>0</td>\n",
       "      <td>0</td>\n",
       "      <td>0</td>\n",
       "    </tr>\n",
       "    <tr>\n",
       "      <th>552</th>\n",
       "      <td>62</td>\n",
       "      <td>21.4</td>\n",
       "      <td>1</td>\n",
       "      <td>0</td>\n",
       "      <td>0</td>\n",
       "      <td>0</td>\n",
       "      <td>0</td>\n",
       "      <td>0</td>\n",
       "      <td>0</td>\n",
       "      <td>0</td>\n",
       "      <td>0</td>\n",
       "      <td>1</td>\n",
       "    </tr>\n",
       "    <tr>\n",
       "      <th>738</th>\n",
       "      <td>23</td>\n",
       "      <td>31.7</td>\n",
       "      <td>1</td>\n",
       "      <td>0</td>\n",
       "      <td>0</td>\n",
       "      <td>1</td>\n",
       "      <td>0</td>\n",
       "      <td>0</td>\n",
       "      <td>1</td>\n",
       "      <td>0</td>\n",
       "      <td>0</td>\n",
       "      <td>0</td>\n",
       "    </tr>\n",
       "  </tbody>\n",
       "</table>\n",
       "</div>"
      ],
      "text/plain": [
       "      age   bmi  OHE_male  OHE_1  OHE_2  OHE_3  OHE_4  OHE_5  OHE_yes  \\\n",
       "923    34  35.8         1      0      0      0      0      0        0   \n",
       "1121   46  38.2         1      0      1      0      0      0        0   \n",
       "713    20  40.5         1      0      0      0      0      0        0   \n",
       "552    62  21.4         1      0      0      0      0      0        0   \n",
       "738    23  31.7         1      0      0      1      0      0        1   \n",
       "\n",
       "      OHE_northwest  OHE_southeast  OHE_southwest  \n",
       "923               1              0              0  \n",
       "1121              0              1              0  \n",
       "713               0              0              0  \n",
       "552               0              0              1  \n",
       "738               0              0              0  "
      ]
     },
     "execution_count": 17,
     "metadata": {},
     "output_type": "execute_result"
    }
   ],
   "source": [
    "print(type(X_train))\n",
    "X_train.head()"
   ]
  },
  {
   "cell_type": "code",
   "execution_count": null,
   "metadata": {},
   "outputs": [],
   "source": []
  },
  {
   "cell_type": "markdown",
   "metadata": {},
   "source": [
    "We will apply normal equation, so we need to add a colums of x0 so that our X matrix becomes m * (n+1) dimension.\n",
    "So, that we can multiply it theta(n+1 dimen. vector), to get the hypothesis.\n",
    "\n",
    "hθ(x) = X * θ\n"
   ]
  },
  {
   "cell_type": "code",
   "execution_count": 18,
   "metadata": {},
   "outputs": [
    {
     "data": {
      "text/html": [
       "<div>\n",
       "<style scoped>\n",
       "    .dataframe tbody tr th:only-of-type {\n",
       "        vertical-align: middle;\n",
       "    }\n",
       "\n",
       "    .dataframe tbody tr th {\n",
       "        vertical-align: top;\n",
       "    }\n",
       "\n",
       "    .dataframe thead th {\n",
       "        text-align: right;\n",
       "    }\n",
       "</style>\n",
       "<table border=\"1\" class=\"dataframe\">\n",
       "  <thead>\n",
       "    <tr style=\"text-align: right;\">\n",
       "      <th></th>\n",
       "      <th>x_0</th>\n",
       "      <th>age</th>\n",
       "      <th>bmi</th>\n",
       "      <th>OHE_male</th>\n",
       "      <th>OHE_1</th>\n",
       "      <th>OHE_2</th>\n",
       "      <th>OHE_3</th>\n",
       "      <th>OHE_4</th>\n",
       "      <th>OHE_5</th>\n",
       "      <th>OHE_yes</th>\n",
       "      <th>OHE_northwest</th>\n",
       "      <th>OHE_southeast</th>\n",
       "      <th>OHE_southwest</th>\n",
       "    </tr>\n",
       "  </thead>\n",
       "  <tbody>\n",
       "    <tr>\n",
       "      <th>923</th>\n",
       "      <td>1</td>\n",
       "      <td>34</td>\n",
       "      <td>35.8</td>\n",
       "      <td>1</td>\n",
       "      <td>0</td>\n",
       "      <td>0</td>\n",
       "      <td>0</td>\n",
       "      <td>0</td>\n",
       "      <td>0</td>\n",
       "      <td>0</td>\n",
       "      <td>1</td>\n",
       "      <td>0</td>\n",
       "      <td>0</td>\n",
       "    </tr>\n",
       "    <tr>\n",
       "      <th>1121</th>\n",
       "      <td>1</td>\n",
       "      <td>46</td>\n",
       "      <td>38.2</td>\n",
       "      <td>1</td>\n",
       "      <td>0</td>\n",
       "      <td>1</td>\n",
       "      <td>0</td>\n",
       "      <td>0</td>\n",
       "      <td>0</td>\n",
       "      <td>0</td>\n",
       "      <td>0</td>\n",
       "      <td>1</td>\n",
       "      <td>0</td>\n",
       "    </tr>\n",
       "    <tr>\n",
       "      <th>713</th>\n",
       "      <td>1</td>\n",
       "      <td>20</td>\n",
       "      <td>40.5</td>\n",
       "      <td>1</td>\n",
       "      <td>0</td>\n",
       "      <td>0</td>\n",
       "      <td>0</td>\n",
       "      <td>0</td>\n",
       "      <td>0</td>\n",
       "      <td>0</td>\n",
       "      <td>0</td>\n",
       "      <td>0</td>\n",
       "      <td>0</td>\n",
       "    </tr>\n",
       "    <tr>\n",
       "      <th>552</th>\n",
       "      <td>1</td>\n",
       "      <td>62</td>\n",
       "      <td>21.4</td>\n",
       "      <td>1</td>\n",
       "      <td>0</td>\n",
       "      <td>0</td>\n",
       "      <td>0</td>\n",
       "      <td>0</td>\n",
       "      <td>0</td>\n",
       "      <td>0</td>\n",
       "      <td>0</td>\n",
       "      <td>0</td>\n",
       "      <td>1</td>\n",
       "    </tr>\n",
       "    <tr>\n",
       "      <th>738</th>\n",
       "      <td>1</td>\n",
       "      <td>23</td>\n",
       "      <td>31.7</td>\n",
       "      <td>1</td>\n",
       "      <td>0</td>\n",
       "      <td>0</td>\n",
       "      <td>1</td>\n",
       "      <td>0</td>\n",
       "      <td>0</td>\n",
       "      <td>1</td>\n",
       "      <td>0</td>\n",
       "      <td>0</td>\n",
       "      <td>0</td>\n",
       "    </tr>\n",
       "  </tbody>\n",
       "</table>\n",
       "</div>"
      ],
      "text/plain": [
       "      x_0  age   bmi  OHE_male  OHE_1  OHE_2  OHE_3  OHE_4  OHE_5  OHE_yes  \\\n",
       "923     1   34  35.8         1      0      0      0      0      0        0   \n",
       "1121    1   46  38.2         1      0      1      0      0      0        0   \n",
       "713     1   20  40.5         1      0      0      0      0      0        0   \n",
       "552     1   62  21.4         1      0      0      0      0      0        0   \n",
       "738     1   23  31.7         1      0      0      1      0      0        1   \n",
       "\n",
       "      OHE_northwest  OHE_southeast  OHE_southwest  \n",
       "923               1              0              0  \n",
       "1121              0              1              0  \n",
       "713               0              0              0  \n",
       "552               0              0              1  \n",
       "738               0              0              0  "
      ]
     },
     "execution_count": 18,
     "metadata": {},
     "output_type": "execute_result"
    }
   ],
   "source": [
    "X_train.insert(0, 'x_0', 1, True)\n",
    "X_test.insert(0, 'x_0', 1, True)\n",
    "\n",
    "X_train.head()"
   ]
  },
  {
   "cell_type": "raw",
   "metadata": {},
   "source": []
  },
  {
   "cell_type": "markdown",
   "metadata": {},
   "source": [
    " θ = (XT * X)^-1 (XT * y) "
   ]
  },
  {
   "cell_type": "code",
   "execution_count": 19,
   "metadata": {},
   "outputs": [
    {
     "name": "stdout",
     "output_type": "stream",
     "text": [
      "(13,)\n"
     ]
    },
    {
     "data": {
      "text/plain": [
       "array([ 7.05952857,  0.03313419,  0.01350335, -0.06775339,  0.14948114,\n",
       "        0.27295892,  0.24406603,  0.52341977,  0.46611078,  1.55043951,\n",
       "       -0.05585593, -0.14652391, -0.13345835])"
      ]
     },
     "execution_count": 19,
     "metadata": {},
     "output_type": "execute_result"
    }
   ],
   "source": [
    "theta = np.dot( np.linalg.pinv(np.dot(X_train.transpose(), X_train)),np.dot(X_train.transpose(), y_train) )\n",
    "print(theta.shape)\n",
    "theta"
   ]
  },
  {
   "cell_type": "markdown",
   "metadata": {},
   "source": [
    "Hypothesis:\n",
    "h = X*θ"
   ]
  },
  {
   "cell_type": "code",
   "execution_count": 20,
   "metadata": {},
   "outputs": [
    {
     "data": {
      "text/plain": [
       "['theta_0',\n",
       " 'theta_1',\n",
       " 'theta_2',\n",
       " 'theta_3',\n",
       " 'theta_4',\n",
       " 'theta_5',\n",
       " 'theta_6',\n",
       " 'theta_7',\n",
       " 'theta_8',\n",
       " 'theta_9',\n",
       " 'theta_10',\n",
       " 'theta_11',\n",
       " 'theta_12']"
      ]
     },
     "execution_count": 20,
     "metadata": {},
     "output_type": "execute_result"
    }
   ],
   "source": [
    "parameter = []\n",
    "for i in range(0, theta.size):\n",
    "             s = str(i)\n",
    "             parameter.append('theta_'+s)\n",
    "parameter"
   ]
  },
  {
   "cell_type": "code",
   "execution_count": 21,
   "metadata": {},
   "outputs": [
    {
     "data": {
      "text/plain": [
       "['x_0',\n",
       " 'age',\n",
       " 'bmi',\n",
       " 'OHE_male',\n",
       " 'OHE_1',\n",
       " 'OHE_2',\n",
       " 'OHE_3',\n",
       " 'OHE_4',\n",
       " 'OHE_5',\n",
       " 'OHE_yes',\n",
       " 'OHE_northwest',\n",
       " 'OHE_southeast',\n",
       " 'OHE_southwest']"
      ]
     },
     "execution_count": 21,
     "metadata": {},
     "output_type": "execute_result"
    }
   ],
   "source": [
    "columns = list(X_train.columns.values)\n",
    "columns"
   ]
  },
  {
   "cell_type": "code",
   "execution_count": 22,
   "metadata": {},
   "outputs": [
    {
     "data": {
      "text/html": [
       "<div>\n",
       "<style scoped>\n",
       "    .dataframe tbody tr th:only-of-type {\n",
       "        vertical-align: middle;\n",
       "    }\n",
       "\n",
       "    .dataframe tbody tr th {\n",
       "        vertical-align: top;\n",
       "    }\n",
       "\n",
       "    .dataframe thead th {\n",
       "        text-align: right;\n",
       "    }\n",
       "</style>\n",
       "<table border=\"1\" class=\"dataframe\">\n",
       "  <thead>\n",
       "    <tr style=\"text-align: right;\">\n",
       "      <th></th>\n",
       "      <th>Parameter</th>\n",
       "      <th>Columns</th>\n",
       "      <th>theta</th>\n",
       "    </tr>\n",
       "  </thead>\n",
       "  <tbody>\n",
       "    <tr>\n",
       "      <th>0</th>\n",
       "      <td>theta_0</td>\n",
       "      <td>x_0</td>\n",
       "      <td>7.059529</td>\n",
       "    </tr>\n",
       "    <tr>\n",
       "      <th>1</th>\n",
       "      <td>theta_1</td>\n",
       "      <td>age</td>\n",
       "      <td>0.033134</td>\n",
       "    </tr>\n",
       "    <tr>\n",
       "      <th>2</th>\n",
       "      <td>theta_2</td>\n",
       "      <td>bmi</td>\n",
       "      <td>0.013503</td>\n",
       "    </tr>\n",
       "    <tr>\n",
       "      <th>3</th>\n",
       "      <td>theta_3</td>\n",
       "      <td>OHE_male</td>\n",
       "      <td>-0.067753</td>\n",
       "    </tr>\n",
       "    <tr>\n",
       "      <th>4</th>\n",
       "      <td>theta_4</td>\n",
       "      <td>OHE_1</td>\n",
       "      <td>0.149481</td>\n",
       "    </tr>\n",
       "    <tr>\n",
       "      <th>5</th>\n",
       "      <td>theta_5</td>\n",
       "      <td>OHE_2</td>\n",
       "      <td>0.272959</td>\n",
       "    </tr>\n",
       "    <tr>\n",
       "      <th>6</th>\n",
       "      <td>theta_6</td>\n",
       "      <td>OHE_3</td>\n",
       "      <td>0.244066</td>\n",
       "    </tr>\n",
       "    <tr>\n",
       "      <th>7</th>\n",
       "      <td>theta_7</td>\n",
       "      <td>OHE_4</td>\n",
       "      <td>0.523420</td>\n",
       "    </tr>\n",
       "    <tr>\n",
       "      <th>8</th>\n",
       "      <td>theta_8</td>\n",
       "      <td>OHE_5</td>\n",
       "      <td>0.466111</td>\n",
       "    </tr>\n",
       "    <tr>\n",
       "      <th>9</th>\n",
       "      <td>theta_9</td>\n",
       "      <td>OHE_yes</td>\n",
       "      <td>1.550440</td>\n",
       "    </tr>\n",
       "    <tr>\n",
       "      <th>10</th>\n",
       "      <td>theta_10</td>\n",
       "      <td>OHE_northwest</td>\n",
       "      <td>-0.055856</td>\n",
       "    </tr>\n",
       "    <tr>\n",
       "      <th>11</th>\n",
       "      <td>theta_11</td>\n",
       "      <td>OHE_southeast</td>\n",
       "      <td>-0.146524</td>\n",
       "    </tr>\n",
       "    <tr>\n",
       "      <th>12</th>\n",
       "      <td>theta_12</td>\n",
       "      <td>OHE_southwest</td>\n",
       "      <td>-0.133458</td>\n",
       "    </tr>\n",
       "  </tbody>\n",
       "</table>\n",
       "</div>"
      ],
      "text/plain": [
       "   Parameter        Columns     theta\n",
       "0    theta_0            x_0  7.059529\n",
       "1    theta_1            age  0.033134\n",
       "2    theta_2            bmi  0.013503\n",
       "3    theta_3       OHE_male -0.067753\n",
       "4    theta_4          OHE_1  0.149481\n",
       "5    theta_5          OHE_2  0.272959\n",
       "6    theta_6          OHE_3  0.244066\n",
       "7    theta_7          OHE_4  0.523420\n",
       "8    theta_8          OHE_5  0.466111\n",
       "9    theta_9        OHE_yes  1.550440\n",
       "10  theta_10  OHE_northwest -0.055856\n",
       "11  theta_11  OHE_southeast -0.146524\n",
       "12  theta_12  OHE_southwest -0.133458"
      ]
     },
     "execution_count": 22,
     "metadata": {},
     "output_type": "execute_result"
    }
   ],
   "source": [
    "parameter_df = pd.DataFrame({'Parameter': parameter, 'Columns': columns, \"theta\": theta})\n",
    "parameter_df"
   ]
  },
  {
   "cell_type": "markdown",
   "metadata": {},
   "source": [
    "### Using the Sk learn module"
   ]
  },
  {
   "cell_type": "code",
   "execution_count": 23,
   "metadata": {},
   "outputs": [],
   "source": [
    "from sklearn.linear_model import LinearRegression\n",
    "\n",
    "linear_reg = LinearRegression()\n"
   ]
  },
  {
   "cell_type": "code",
   "execution_count": 24,
   "metadata": {},
   "outputs": [
    {
     "name": "stderr",
     "output_type": "stream",
     "text": [
      "/Library/Frameworks/Python.framework/Versions/3.9/lib/python3.9/site-packages/pandas/core/frame.py:4308: SettingWithCopyWarning: \n",
      "A value is trying to be set on a copy of a slice from a DataFrame\n",
      "\n",
      "See the caveats in the documentation: https://pandas.pydata.org/pandas-docs/stable/user_guide/indexing.html#returning-a-view-versus-a-copy\n",
      "  return super().drop(\n"
     ]
    },
    {
     "data": {
      "text/html": [
       "<div>\n",
       "<style scoped>\n",
       "    .dataframe tbody tr th:only-of-type {\n",
       "        vertical-align: middle;\n",
       "    }\n",
       "\n",
       "    .dataframe tbody tr th {\n",
       "        vertical-align: top;\n",
       "    }\n",
       "\n",
       "    .dataframe thead th {\n",
       "        text-align: right;\n",
       "    }\n",
       "</style>\n",
       "<table border=\"1\" class=\"dataframe\">\n",
       "  <thead>\n",
       "    <tr style=\"text-align: right;\">\n",
       "      <th></th>\n",
       "      <th>age</th>\n",
       "      <th>bmi</th>\n",
       "      <th>OHE_male</th>\n",
       "      <th>OHE_1</th>\n",
       "      <th>OHE_2</th>\n",
       "      <th>OHE_3</th>\n",
       "      <th>OHE_4</th>\n",
       "      <th>OHE_5</th>\n",
       "      <th>OHE_yes</th>\n",
       "      <th>OHE_northwest</th>\n",
       "      <th>OHE_southeast</th>\n",
       "      <th>OHE_southwest</th>\n",
       "    </tr>\n",
       "  </thead>\n",
       "  <tbody>\n",
       "    <tr>\n",
       "      <th>923</th>\n",
       "      <td>34</td>\n",
       "      <td>35.8</td>\n",
       "      <td>1</td>\n",
       "      <td>0</td>\n",
       "      <td>0</td>\n",
       "      <td>0</td>\n",
       "      <td>0</td>\n",
       "      <td>0</td>\n",
       "      <td>0</td>\n",
       "      <td>1</td>\n",
       "      <td>0</td>\n",
       "      <td>0</td>\n",
       "    </tr>\n",
       "    <tr>\n",
       "      <th>1121</th>\n",
       "      <td>46</td>\n",
       "      <td>38.2</td>\n",
       "      <td>1</td>\n",
       "      <td>0</td>\n",
       "      <td>1</td>\n",
       "      <td>0</td>\n",
       "      <td>0</td>\n",
       "      <td>0</td>\n",
       "      <td>0</td>\n",
       "      <td>0</td>\n",
       "      <td>1</td>\n",
       "      <td>0</td>\n",
       "    </tr>\n",
       "    <tr>\n",
       "      <th>713</th>\n",
       "      <td>20</td>\n",
       "      <td>40.5</td>\n",
       "      <td>1</td>\n",
       "      <td>0</td>\n",
       "      <td>0</td>\n",
       "      <td>0</td>\n",
       "      <td>0</td>\n",
       "      <td>0</td>\n",
       "      <td>0</td>\n",
       "      <td>0</td>\n",
       "      <td>0</td>\n",
       "      <td>0</td>\n",
       "    </tr>\n",
       "    <tr>\n",
       "      <th>552</th>\n",
       "      <td>62</td>\n",
       "      <td>21.4</td>\n",
       "      <td>1</td>\n",
       "      <td>0</td>\n",
       "      <td>0</td>\n",
       "      <td>0</td>\n",
       "      <td>0</td>\n",
       "      <td>0</td>\n",
       "      <td>0</td>\n",
       "      <td>0</td>\n",
       "      <td>0</td>\n",
       "      <td>1</td>\n",
       "    </tr>\n",
       "    <tr>\n",
       "      <th>738</th>\n",
       "      <td>23</td>\n",
       "      <td>31.7</td>\n",
       "      <td>1</td>\n",
       "      <td>0</td>\n",
       "      <td>0</td>\n",
       "      <td>1</td>\n",
       "      <td>0</td>\n",
       "      <td>0</td>\n",
       "      <td>1</td>\n",
       "      <td>0</td>\n",
       "      <td>0</td>\n",
       "      <td>0</td>\n",
       "    </tr>\n",
       "  </tbody>\n",
       "</table>\n",
       "</div>"
      ],
      "text/plain": [
       "      age   bmi  OHE_male  OHE_1  OHE_2  OHE_3  OHE_4  OHE_5  OHE_yes  \\\n",
       "923    34  35.8         1      0      0      0      0      0        0   \n",
       "1121   46  38.2         1      0      1      0      0      0        0   \n",
       "713    20  40.5         1      0      0      0      0      0        0   \n",
       "552    62  21.4         1      0      0      0      0      0        0   \n",
       "738    23  31.7         1      0      0      1      0      0        1   \n",
       "\n",
       "      OHE_northwest  OHE_southeast  OHE_southwest  \n",
       "923               1              0              0  \n",
       "1121              0              1              0  \n",
       "713               0              0              0  \n",
       "552               0              0              1  \n",
       "738               0              0              0  "
      ]
     },
     "execution_count": 24,
     "metadata": {},
     "output_type": "execute_result"
    }
   ],
   "source": [
    "# Note: x_0 = 1 is no need to add, sklearn will take care of it.\n",
    "\n",
    "X_train.drop('x_0', axis = 1, inplace = True)\n",
    "X_train.head()"
   ]
  },
  {
   "cell_type": "code",
   "execution_count": 25,
   "metadata": {},
   "outputs": [
    {
     "data": {
      "text/plain": [
       "array([ 0.03313419,  0.01350335, -0.06775339,  0.14948114,  0.27295892,\n",
       "        0.24406603,  0.52341977,  0.46611078,  1.55043951, -0.05585593,\n",
       "       -0.14652391, -0.13345835])"
      ]
     },
     "execution_count": 25,
     "metadata": {},
     "output_type": "execute_result"
    }
   ],
   "source": [
    "linear_reg.fit(X_train,y_train)\n",
    "\n",
    "linear_reg.coef_"
   ]
  },
  {
   "cell_type": "code",
   "execution_count": 26,
   "metadata": {},
   "outputs": [
    {
     "data": {
      "text/plain": [
       "7.059528567663586"
      ]
     },
     "execution_count": 26,
     "metadata": {},
     "output_type": "execute_result"
    }
   ],
   "source": [
    "intcpt = linear_reg.intercept_\n",
    "intcpt"
   ]
  },
  {
   "cell_type": "code",
   "execution_count": 27,
   "metadata": {},
   "outputs": [],
   "source": [
    "Sk_learn_theta_list = [intcpt] + list(linear_reg.coef_)\n",
    "\n",
    "parameter_df.insert(3, 'Sk_learn_theta_size', pd.Series(Sk_learn_theta_list), True)"
   ]
  },
  {
   "cell_type": "code",
   "execution_count": 28,
   "metadata": {},
   "outputs": [
    {
     "data": {
      "text/html": [
       "<div>\n",
       "<style scoped>\n",
       "    .dataframe tbody tr th:only-of-type {\n",
       "        vertical-align: middle;\n",
       "    }\n",
       "\n",
       "    .dataframe tbody tr th {\n",
       "        vertical-align: top;\n",
       "    }\n",
       "\n",
       "    .dataframe thead th {\n",
       "        text-align: right;\n",
       "    }\n",
       "</style>\n",
       "<table border=\"1\" class=\"dataframe\">\n",
       "  <thead>\n",
       "    <tr style=\"text-align: right;\">\n",
       "      <th></th>\n",
       "      <th>Parameter</th>\n",
       "      <th>Columns</th>\n",
       "      <th>theta</th>\n",
       "      <th>Sk_learn_theta_size</th>\n",
       "    </tr>\n",
       "  </thead>\n",
       "  <tbody>\n",
       "    <tr>\n",
       "      <th>0</th>\n",
       "      <td>theta_0</td>\n",
       "      <td>x_0</td>\n",
       "      <td>7.059529</td>\n",
       "      <td>7.059529</td>\n",
       "    </tr>\n",
       "    <tr>\n",
       "      <th>1</th>\n",
       "      <td>theta_1</td>\n",
       "      <td>age</td>\n",
       "      <td>0.033134</td>\n",
       "      <td>0.033134</td>\n",
       "    </tr>\n",
       "    <tr>\n",
       "      <th>2</th>\n",
       "      <td>theta_2</td>\n",
       "      <td>bmi</td>\n",
       "      <td>0.013503</td>\n",
       "      <td>0.013503</td>\n",
       "    </tr>\n",
       "    <tr>\n",
       "      <th>3</th>\n",
       "      <td>theta_3</td>\n",
       "      <td>OHE_male</td>\n",
       "      <td>-0.067753</td>\n",
       "      <td>-0.067753</td>\n",
       "    </tr>\n",
       "    <tr>\n",
       "      <th>4</th>\n",
       "      <td>theta_4</td>\n",
       "      <td>OHE_1</td>\n",
       "      <td>0.149481</td>\n",
       "      <td>0.149481</td>\n",
       "    </tr>\n",
       "    <tr>\n",
       "      <th>5</th>\n",
       "      <td>theta_5</td>\n",
       "      <td>OHE_2</td>\n",
       "      <td>0.272959</td>\n",
       "      <td>0.272959</td>\n",
       "    </tr>\n",
       "    <tr>\n",
       "      <th>6</th>\n",
       "      <td>theta_6</td>\n",
       "      <td>OHE_3</td>\n",
       "      <td>0.244066</td>\n",
       "      <td>0.244066</td>\n",
       "    </tr>\n",
       "    <tr>\n",
       "      <th>7</th>\n",
       "      <td>theta_7</td>\n",
       "      <td>OHE_4</td>\n",
       "      <td>0.523420</td>\n",
       "      <td>0.523420</td>\n",
       "    </tr>\n",
       "    <tr>\n",
       "      <th>8</th>\n",
       "      <td>theta_8</td>\n",
       "      <td>OHE_5</td>\n",
       "      <td>0.466111</td>\n",
       "      <td>0.466111</td>\n",
       "    </tr>\n",
       "    <tr>\n",
       "      <th>9</th>\n",
       "      <td>theta_9</td>\n",
       "      <td>OHE_yes</td>\n",
       "      <td>1.550440</td>\n",
       "      <td>1.550440</td>\n",
       "    </tr>\n",
       "    <tr>\n",
       "      <th>10</th>\n",
       "      <td>theta_10</td>\n",
       "      <td>OHE_northwest</td>\n",
       "      <td>-0.055856</td>\n",
       "      <td>-0.055856</td>\n",
       "    </tr>\n",
       "    <tr>\n",
       "      <th>11</th>\n",
       "      <td>theta_11</td>\n",
       "      <td>OHE_southeast</td>\n",
       "      <td>-0.146524</td>\n",
       "      <td>-0.146524</td>\n",
       "    </tr>\n",
       "    <tr>\n",
       "      <th>12</th>\n",
       "      <td>theta_12</td>\n",
       "      <td>OHE_southwest</td>\n",
       "      <td>-0.133458</td>\n",
       "      <td>-0.133458</td>\n",
       "    </tr>\n",
       "  </tbody>\n",
       "</table>\n",
       "</div>"
      ],
      "text/plain": [
       "   Parameter        Columns     theta  Sk_learn_theta_size\n",
       "0    theta_0            x_0  7.059529             7.059529\n",
       "1    theta_1            age  0.033134             0.033134\n",
       "2    theta_2            bmi  0.013503             0.013503\n",
       "3    theta_3       OHE_male -0.067753            -0.067753\n",
       "4    theta_4          OHE_1  0.149481             0.149481\n",
       "5    theta_5          OHE_2  0.272959             0.272959\n",
       "6    theta_6          OHE_3  0.244066             0.244066\n",
       "7    theta_7          OHE_4  0.523420             0.523420\n",
       "8    theta_8          OHE_5  0.466111             0.466111\n",
       "9    theta_9        OHE_yes  1.550440             1.550440\n",
       "10  theta_10  OHE_northwest -0.055856            -0.055856\n",
       "11  theta_11  OHE_southeast -0.146524            -0.146524\n",
       "12  theta_12  OHE_southwest -0.133458            -0.133458"
      ]
     },
     "execution_count": 28,
     "metadata": {},
     "output_type": "execute_result"
    }
   ],
   "source": [
    "parameter_df"
   ]
  },
  {
   "cell_type": "markdown",
   "metadata": {},
   "source": [
    "The parameter obtained from both the model are same.\n",
    "So we succefull build our model using normal equation and verified using sklearn linear regression module.\n",
    "Let's move ahead, next step is prediction and model evaluvation."
   ]
  },
  {
   "cell_type": "code",
   "execution_count": null,
   "metadata": {},
   "outputs": [],
   "source": []
  },
  {
   "cell_type": "markdown",
   "metadata": {},
   "source": [
    "### Model evaluation"
   ]
  },
  {
   "cell_type": "markdown",
   "metadata": {},
   "source": [
    "We will predict value for target variable by using our model parameter for test data set.\n",
    "Then compare the predicted value with actual valu in test set.\n",
    "We compute Mean Square Error.\n",
    "\n",
    "𝐑^2 is statistical measure of how close data are to the fitted regression line.\n",
    "𝐑^2 is always between 0 to 100%.\n",
    "0% indicated that model explains none of the variability of the response data around it's mean.\n",
    "100% indicated that model explains all the variablity of the response data around the mean."
   ]
  },
  {
   "cell_type": "code",
   "execution_count": 29,
   "metadata": {},
   "outputs": [
    {
     "name": "stdout",
     "output_type": "stream",
     "text": [
      "(402, 13)\n"
     ]
    },
    {
     "data": {
      "text/html": [
       "<div>\n",
       "<style scoped>\n",
       "    .dataframe tbody tr th:only-of-type {\n",
       "        vertical-align: middle;\n",
       "    }\n",
       "\n",
       "    .dataframe tbody tr th {\n",
       "        vertical-align: top;\n",
       "    }\n",
       "\n",
       "    .dataframe thead th {\n",
       "        text-align: right;\n",
       "    }\n",
       "</style>\n",
       "<table border=\"1\" class=\"dataframe\">\n",
       "  <thead>\n",
       "    <tr style=\"text-align: right;\">\n",
       "      <th></th>\n",
       "      <th>x_0</th>\n",
       "      <th>age</th>\n",
       "      <th>bmi</th>\n",
       "      <th>OHE_male</th>\n",
       "      <th>OHE_1</th>\n",
       "      <th>OHE_2</th>\n",
       "      <th>OHE_3</th>\n",
       "      <th>OHE_4</th>\n",
       "      <th>OHE_5</th>\n",
       "      <th>OHE_yes</th>\n",
       "      <th>OHE_northwest</th>\n",
       "      <th>OHE_southeast</th>\n",
       "      <th>OHE_southwest</th>\n",
       "    </tr>\n",
       "  </thead>\n",
       "  <tbody>\n",
       "    <tr>\n",
       "      <th>918</th>\n",
       "      <td>1</td>\n",
       "      <td>61</td>\n",
       "      <td>28.2</td>\n",
       "      <td>0</td>\n",
       "      <td>0</td>\n",
       "      <td>0</td>\n",
       "      <td>0</td>\n",
       "      <td>0</td>\n",
       "      <td>0</td>\n",
       "      <td>0</td>\n",
       "      <td>0</td>\n",
       "      <td>0</td>\n",
       "      <td>1</td>\n",
       "    </tr>\n",
       "    <tr>\n",
       "      <th>755</th>\n",
       "      <td>1</td>\n",
       "      <td>31</td>\n",
       "      <td>27.6</td>\n",
       "      <td>1</td>\n",
       "      <td>0</td>\n",
       "      <td>1</td>\n",
       "      <td>0</td>\n",
       "      <td>0</td>\n",
       "      <td>0</td>\n",
       "      <td>0</td>\n",
       "      <td>0</td>\n",
       "      <td>0</td>\n",
       "      <td>0</td>\n",
       "    </tr>\n",
       "    <tr>\n",
       "      <th>207</th>\n",
       "      <td>1</td>\n",
       "      <td>35</td>\n",
       "      <td>27.7</td>\n",
       "      <td>1</td>\n",
       "      <td>0</td>\n",
       "      <td>1</td>\n",
       "      <td>0</td>\n",
       "      <td>0</td>\n",
       "      <td>0</td>\n",
       "      <td>1</td>\n",
       "      <td>0</td>\n",
       "      <td>0</td>\n",
       "      <td>0</td>\n",
       "    </tr>\n",
       "    <tr>\n",
       "      <th>520</th>\n",
       "      <td>1</td>\n",
       "      <td>50</td>\n",
       "      <td>27.4</td>\n",
       "      <td>0</td>\n",
       "      <td>0</td>\n",
       "      <td>0</td>\n",
       "      <td>0</td>\n",
       "      <td>0</td>\n",
       "      <td>0</td>\n",
       "      <td>0</td>\n",
       "      <td>0</td>\n",
       "      <td>0</td>\n",
       "      <td>0</td>\n",
       "    </tr>\n",
       "    <tr>\n",
       "      <th>695</th>\n",
       "      <td>1</td>\n",
       "      <td>26</td>\n",
       "      <td>40.2</td>\n",
       "      <td>0</td>\n",
       "      <td>0</td>\n",
       "      <td>0</td>\n",
       "      <td>0</td>\n",
       "      <td>0</td>\n",
       "      <td>0</td>\n",
       "      <td>0</td>\n",
       "      <td>1</td>\n",
       "      <td>0</td>\n",
       "      <td>0</td>\n",
       "    </tr>\n",
       "  </tbody>\n",
       "</table>\n",
       "</div>"
      ],
      "text/plain": [
       "     x_0  age   bmi  OHE_male  OHE_1  OHE_2  OHE_3  OHE_4  OHE_5  OHE_yes  \\\n",
       "918    1   61  28.2         0      0      0      0      0      0        0   \n",
       "755    1   31  27.6         1      0      1      0      0      0        0   \n",
       "207    1   35  27.7         1      0      1      0      0      0        1   \n",
       "520    1   50  27.4         0      0      0      0      0      0        0   \n",
       "695    1   26  40.2         0      0      0      0      0      0        0   \n",
       "\n",
       "     OHE_northwest  OHE_southeast  OHE_southwest  \n",
       "918              0              0              1  \n",
       "755              0              0              0  \n",
       "207              0              0              0  \n",
       "520              0              0              0  \n",
       "695              1              0              0  "
      ]
     },
     "execution_count": 29,
     "metadata": {},
     "output_type": "execute_result"
    }
   ],
   "source": [
    "print(X_test.shape)\n",
    "X_test.head()"
   ]
  },
  {
   "cell_type": "code",
   "execution_count": 30,
   "metadata": {},
   "outputs": [],
   "source": [
    "# h = X*θ\n",
    "h = np.dot(X_test, theta)"
   ]
  },
  {
   "cell_type": "code",
   "execution_count": 31,
   "metadata": {},
   "outputs": [
    {
     "name": "stdout",
     "output_type": "stream",
     "text": [
      "(402,)\n"
     ]
    },
    {
     "data": {
      "text/plain": [
       "array([ 9.32805005,  8.66458629, 10.34891288,  9.08622966,  8.40799605,\n",
       "        8.98058228, 10.75032114,  8.56052118,  9.48603048, 10.95606736,\n",
       "        8.12785765, 11.03794019,  8.19898243,  9.44491415,  8.80664345,\n",
       "        8.53343524,  8.63333705,  8.11097403, 10.44181875, 10.44535006,\n",
       "       11.202992  ,  9.15833381,  8.86362536,  9.18813745, 10.58994956,\n",
       "        8.51004869,  8.55359744,  9.61553214,  7.98433184,  9.11897867,\n",
       "        9.38808895,  8.16733895,  8.40485668,  9.45114868,  8.77555608,\n",
       "        9.82525033,  9.36916714,  9.02919433,  9.20857257,  8.38894405,\n",
       "        9.19702638, 10.59534835,  9.19110653, 10.55958277,  9.2601245 ,\n",
       "        9.29877713,  8.47155953,  8.55708172,  9.06506726,  8.69377145,\n",
       "        9.41448569,  8.84660162,  9.13857681,  8.30125144,  8.44160397,\n",
       "        9.35333029,  9.25801621,  9.16717352,  8.82323265,  9.61945118,\n",
       "        9.95122179,  8.4934474 ,  7.90618177,  8.44172443,  8.13696631,\n",
       "        8.62640203,  8.02659821,  7.94534148,  8.43064771,  9.45560958,\n",
       "        8.67928113, 10.57360518,  9.07366898, 10.33109984,  8.02140083,\n",
       "        8.50708542,  9.16944243,  8.51226198,  8.36544333,  8.32232341,\n",
       "        9.24992337,  8.06667963,  9.97751655,  9.62525744,  8.89662759,\n",
       "        8.97040378,  9.51272483, 11.13244572,  8.05795344, 10.8002391 ,\n",
       "        8.48244211,  9.30393947,  8.05377047,  8.89542456, 10.66445463,\n",
       "        7.96951564,  7.94086185,  8.0393427 ,  9.79513787,  7.75523266,\n",
       "        9.34011025,  8.63597626,  8.14455702,  9.11378128,  9.45890971,\n",
       "        9.20559899,  9.00986025,  8.08859597,  8.27805376,  8.77844917,\n",
       "        9.63749876,  8.8937768 ,  8.462685  ,  9.14887576,  8.8606014 ,\n",
       "        8.04483761, 11.05507655,  9.43895446,  9.8341629 ,  8.10854   ,\n",
       "        9.2838921 ,  9.058505  ,  8.48412691,  8.6344887 ,  8.19649723,\n",
       "        8.06625024,  8.39664119, 10.45997311,  8.99625493,  9.81233277,\n",
       "       10.44958495,  7.86055876,  9.15665671,  8.53063394,  8.8384912 ,\n",
       "        8.11659668,  8.02333424,  9.12640957,  8.09398309,  8.0312023 ,\n",
       "        9.52475755,  9.56828411,  9.57615217,  9.20514261,  8.68399683,\n",
       "        8.97376165, 10.67357418,  8.16257601,  7.85434686,  8.56158325,\n",
       "        9.07426872,  9.5863551 ,  8.2026432 ,  9.49427679,  9.75099045,\n",
       "        8.11981641,  8.40730918,  8.83426927,  8.45148238,  8.24499308,\n",
       "        8.16479197,  8.71592932,  8.03641736,  9.62386269,  8.79627016,\n",
       "        8.50617288, 10.38709343,  8.33456418,  8.11353534,  9.00633145,\n",
       "        8.35199552,  9.47440748,  7.89132809,  8.14114282,  8.08910395,\n",
       "        8.95828884,  8.99971196,  8.40615732,  9.28248871,  8.20012881,\n",
       "        8.87090764,  9.01225531, 10.27211103,  7.9702745 ,  9.32597356,\n",
       "        9.48738081,  8.07524115,  9.09888953,  9.64519688,  9.6581029 ,\n",
       "        9.11068187, 10.34696522,  9.16441439,  8.80732909,  8.77091057,\n",
       "       10.64768789,  8.83674168,  9.11321787,  9.08773458,  9.23661482,\n",
       "        9.92847006, 10.32555779,  7.91956748,  7.96588486,  8.55933128,\n",
       "        8.20084803, 10.02230003,  9.31797353, 10.39614403,  9.2071356 ,\n",
       "       10.02061031,  8.48762046,  8.80790938,  8.24520209,  8.62709917,\n",
       "       10.23426912,  9.56580642,  8.50018485,  9.2316598 ,  9.34323955,\n",
       "        9.47563322,  9.74766875,  8.28748604, 10.48250076,  8.53805871,\n",
       "        8.96797502,  8.54958755,  9.37707359,  7.95801951,  9.82512732,\n",
       "        9.88222645,  9.96286817,  8.8587843 ,  8.33013615,  8.49631666,\n",
       "        9.0082107 ,  8.6950582 ,  8.7641279 ,  8.05360491, 10.66644949,\n",
       "        8.20221382,  8.94911699,  8.74793784,  9.4966555 ,  9.20195994,\n",
       "        9.24898334, 10.36483705,  8.42582869,  9.03060298,  8.52576847,\n",
       "        7.89876753,  8.95359662,  8.19877848,  8.5745753 ,  8.66121331,\n",
       "        9.97632965,  9.21232604,  9.25384241,  8.67098043, 10.79898896,\n",
       "        9.37778766, 10.53864692,  9.05392594, 10.22209972,  8.24275832,\n",
       "       10.31758227,  9.42766015,  7.79028965,  8.74260649,  9.18437199,\n",
       "        8.49875592,  8.9104559 ,  8.12973935,  9.44293047,  8.2070691 ,\n",
       "        8.13168388,  9.17050555,  8.69548456, 10.44951657,  9.87382767,\n",
       "        8.49210291,  8.97221576,  8.70387552,  8.75634378,  9.48280266,\n",
       "        8.29413855,  8.76967787,  8.18475862,  8.4979689 ,  9.75150412,\n",
       "        8.82438754,  8.76763227,  9.98746424,  8.69465914,  7.87064445,\n",
       "        8.19638374,  8.76198346,  8.9038709 ,  7.95238151,  8.90370422,\n",
       "        8.71127767,  9.15598866,  8.55448858,  9.46368921,  8.6933472 ,\n",
       "        9.04626758,  7.84811738,  9.67924834,  9.4142909 ,  9.69602011,\n",
       "        8.78523354,  9.25639174, 10.85189377,  8.75519605,  7.80177738,\n",
       "        8.66172288,  8.51029061,  8.87103929,  9.68200719, 10.12772465,\n",
       "        9.01120608,  9.27521484,  8.38041266,  8.65746542,  8.62242849,\n",
       "        9.10880933,  8.42307631,  9.19102662,  9.11595438,  9.12368776,\n",
       "        8.33587341, 10.80101553,  9.71266548,  8.02646636,  9.27973271,\n",
       "        8.27038652,  9.85506607,  8.83344954,  9.06319775,  9.84553805,\n",
       "        8.91463887,  7.87851251,  9.09489684,  9.17069648,  8.86486276,\n",
       "        8.00067532,  9.94666584,  7.97867122,  8.86989116,  9.19457446,\n",
       "        9.68461157,  8.99596656,  9.59754945, 10.73127922, 10.5853738 ,\n",
       "        8.16493581,  8.54488974,  8.50958549,  9.43006047,  8.86165356,\n",
       "        8.86886082,  8.78884462,  8.24855458,  8.86039333,  9.28712864,\n",
       "        8.87216318,  8.54114121,  7.9458665 ,  8.88719427, 11.29271142,\n",
       "        9.37107438,  9.22414324,  9.5032341 ,  9.26140555,  9.5088557 ,\n",
       "        9.29274656,  8.20442675, 10.1219755 , 10.54742059,  9.19746082,\n",
       "        9.16637627,  9.8794501 ,  9.01217058,  9.03755984,  9.37228434,\n",
       "        8.08244494,  9.22720939,  9.28022493,  9.46885155,  8.88184197,\n",
       "        9.51144177,  8.97852682,  8.74670115,  7.98315367,  9.1119995 ,\n",
       "       10.65539262, 10.5267722 ,  8.18477566,  8.86188437, 10.48196507,\n",
       "        7.89672943,  8.25051902])"
      ]
     },
     "execution_count": 31,
     "metadata": {},
     "output_type": "execute_result"
    }
   ],
   "source": [
    "print(h.shape)\n",
    "h"
   ]
  },
  {
   "cell_type": "code",
   "execution_count": 32,
   "metadata": {},
   "outputs": [
    {
     "data": {
      "text/plain": [
       "0.014406571289403074"
      ]
     },
     "execution_count": 32,
     "metadata": {},
     "output_type": "execute_result"
    }
   ],
   "source": [
    "#MSE\n",
    "\n",
    "J_mse = np.sum((h - y_test)**2)/ X_test.size\n",
    "J_mse"
   ]
  },
  {
   "cell_type": "code",
   "execution_count": 33,
   "metadata": {},
   "outputs": [
    {
     "data": {
      "text/plain": [
       "0.7795814253322737"
      ]
     },
     "execution_count": 33,
     "metadata": {},
     "output_type": "execute_result"
    }
   ],
   "source": [
    "# R_square \n",
    "sse = np.sum((h - y_test)**2)       #Sum of square error\n",
    "sst = np.sum((y_test - y_test.mean())**2)     #Sum of square total\n",
    "\n",
    "R_square = 1 - (sse/sst)\n",
    "R_square"
   ]
  },
  {
   "cell_type": "code",
   "execution_count": 34,
   "metadata": {},
   "outputs": [
    {
     "name": "stdout",
     "output_type": "stream",
     "text": [
      "Mean square error = 0.014406571289403074\n",
      "R square = 0.7795814253322737\n"
     ]
    }
   ],
   "source": [
    "print(f'Mean square error = {J_mse}\\nR square = {R_square}')"
   ]
  },
  {
   "cell_type": "code",
   "execution_count": null,
   "metadata": {},
   "outputs": [],
   "source": []
  },
  {
   "cell_type": "markdown",
   "metadata": {},
   "source": [
    "#### Using the Sk learn library"
   ]
  },
  {
   "cell_type": "code",
   "execution_count": 35,
   "metadata": {},
   "outputs": [
    {
     "name": "stderr",
     "output_type": "stream",
     "text": [
      "/Library/Frameworks/Python.framework/Versions/3.9/lib/python3.9/site-packages/pandas/core/frame.py:4308: SettingWithCopyWarning: \n",
      "A value is trying to be set on a copy of a slice from a DataFrame\n",
      "\n",
      "See the caveats in the documentation: https://pandas.pydata.org/pandas-docs/stable/user_guide/indexing.html#returning-a-view-versus-a-copy\n",
      "  return super().drop(\n"
     ]
    }
   ],
   "source": [
    "X_test.drop('x_0', axis = 1, inplace = True)\n",
    "\n",
    "h_sk = linear_reg.predict(X_test)\n",
    "\n",
    "#MSE\n",
    "from sklearn.metrics import mean_squared_error\n",
    "J_mse_sk = mean_squared_error(h, y_test)"
   ]
  },
  {
   "cell_type": "code",
   "execution_count": 36,
   "metadata": {},
   "outputs": [
    {
     "name": "stdout",
     "output_type": "stream",
     "text": [
      "Mean square error = 0.18728542676223997\n",
      "R square = 0.7795814253322967\n"
     ]
    }
   ],
   "source": [
    "#MSE\n",
    "from sklearn.metrics import mean_squared_error\n",
    "J_mse_sk = mean_squared_error(h, y_test)\n",
    "\n",
    "# R_square\n",
    "R_square_sk = linear_reg.score(X_test,y_test)\n",
    "\n",
    "print(f'Mean square error = {J_mse_sk}\\nR square = {R_square_sk}')"
   ]
  },
  {
   "cell_type": "markdown",
   "metadata": {},
   "source": [
    "### Model Validation"
   ]
  },
  {
   "cell_type": "markdown",
   "metadata": {},
   "source": [
    "In order to validated model we need to check few assumption of linear regression model.\n",
    "The common assumption for Linear Regression model are following:-\n",
    "\n",
    "1 - Linear Relationship: In linear regression the relationship between the dependent and independent variable to be linear. This can be checked by scatter ploting Actual value Vs Predicted value\n",
    "\n",
    "2 - The residual error plot should be normally distributed.\n",
    "\n",
    "3 - The mean of residual error should be 0 or close to 0 as much as possible\n",
    "\n",
    "4 - The linear regression require all variables to be multivariate normal. This assumption can best checked with Q-Q plot.\n",
    "\n",
    "5 - Linear regession assumes that there is little or no Multicollinearity in the data. Multicollinearity occurs when the independent variables are too highly correlated with each other. The variance inflation factor VIF* identifies correlation between independent variables and strength of that correlation.\n",
    "𝐕𝐈𝐅=11−𝐑2\n",
    "VIF\n",
    "=11−R2,\n",
    "If VIF >1 & VIF <5 moderate correlation, VIF < 5 critical level of multicollinearity.\n",
    "\n",
    "6 - Homoscedasticity: The data are homoscedastic meaning the residuals are equal across the regression line. We can look at residual Vs fitted value scatter plot. If heteroscedastic plot would exhibit a funnel shape pattern."
   ]
  },
  {
   "cell_type": "code",
   "execution_count": 37,
   "metadata": {},
   "outputs": [
    {
     "data": {
      "text/plain": [
       "Text(0, 0.5, 'Predicted Value')"
      ]
     },
     "execution_count": 37,
     "metadata": {},
     "output_type": "execute_result"
    },
    {
     "data": {
      "image/png": "[encoded data removed]",
      "text/plain": [
       "<Figure size 1152x648 with 1 Axes>"
      ]
     },
     "metadata": {
      "needs_background": "light"
     },
     "output_type": "display_data"
    }
   ],
   "source": [
    "#Point 1\n",
    "plt.figure(figsize = (16,9))\n",
    "sns.scatterplot(x = y_test, y = h)\n",
    "\n",
    "plt.title('Check for Linearity:\\n Actual Vs Predicted value', fontsize = 15)\n",
    "plt.xlabel('Actual Value', fontsize = 10)\n",
    "plt.ylabel('Predicted Value', fontsize = 10)"
   ]
  },
  {
   "cell_type": "code",
   "execution_count": 38,
   "metadata": {},
   "outputs": [
    {
     "name": "stderr",
     "output_type": "stream",
     "text": [
      "/Library/Frameworks/Python.framework/Versions/3.9/lib/python3.9/site-packages/seaborn/distributions.py:2557: FutureWarning: `distplot` is a deprecated function and will be removed in a future version. Please adapt your code to use either `displot` (a figure-level function with similar flexibility) or `histplot` (an axes-level function for histograms).\n",
      "  warnings.warn(msg, FutureWarning)\n"
     ]
    },
    {
     "data": {
      "image/png": "[encoded data removed]",
      "text/plain": [
       "<Figure size 432x288 with 1 Axes>"
      ]
     },
     "metadata": {
      "needs_background": "light"
     },
     "output_type": "display_data"
    }
   ],
   "source": [
    "#Point 2\n",
    "# Check for Residual normality & mean\n",
    "\n",
    "sns.distplot((y_test - h),color='b')\n",
    "\n",
    "plt.axvline((y_test - h).mean(),color='k',linestyle='--')\n",
    "\n",
    "plt.title('Check for Residual normality & mean: \\n Residual error');"
   ]
  },
  {
   "cell_type": "code",
   "execution_count": null,
   "metadata": {},
   "outputs": [],
   "source": []
  }
 ],
 "metadata": {
  "kernelspec": {
   "display_name": "Python 3",
   "language": "python",
   "name": "python3"
  },
  "language_info": {
   "codemirror_mode": {
    "name": "ipython",
    "version": 3
   },
   "file_extension": ".py",
   "mimetype": "text/x-python",
   "name": "python",
   "nbconvert_exporter": "python",
   "pygments_lexer": "ipython3",
   "version": "3.9.5"
  }
 },
 "nbformat": 4,
 "nbformat_minor": 4
}
